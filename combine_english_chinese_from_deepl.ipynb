{
 "cells": [
  {
   "cell_type": "code",
   "execution_count": 21,
   "metadata": {},
   "outputs": [
    {
     "name": "stdout",
     "output_type": "stream",
     "text": [
      "2021.12.03_23:06:21\n"
     ]
    },
    {
     "data": {
      "text/plain": [
       "str"
      ]
     },
     "execution_count": 21,
     "metadata": {},
     "output_type": "execute_result"
    }
   ],
   "source": [
    "from time import strftime, gmtime\n",
    "\n",
    "time_string = strftime(\"%Y.%m.%d_%H:%M:%S\")\n",
    "\n",
    "print(time_string)\n",
    "type(time_string)"
   ]
  },
  {
   "cell_type": "code",
   "execution_count": 25,
   "metadata": {},
   "outputs": [],
   "source": [
    "from time import strftime\n",
    "\n",
    "time_string = strftime(\"%Y.%m.%d_%H.%M.%S\")\n",
    "en_ls = []\n",
    "ch_ls = []\n",
    "result_name = 'result_'+time_string+\".txt\"\n",
    "\n",
    "with open(result_name, 'w', encoding='utf-8') as result:\n",
    "    with open('english.txt', 'r', encoding='utf-8') as english:\n",
    "        en_ls = english.readlines()\n",
    "#         print(en_ls[0])\n",
    "#         print(en_ls[1])\n",
    "#         print(en_ls[2])\n",
    "#         print(english.readlines())\n",
    "#         print(english.readlines()[0])\n",
    "#         print(english.readlines()[1])\n",
    "#         print(english.readlines()[2])\n",
    "#         print(len(english.readlines()))\n",
    "        \n",
    "        with open('chinese.txt', 'r', encoding='utf-8') as chinese:\n",
    "            ch_ls = chinese.readlines()\n",
    "            for i in range(0, len(en_ls), 1):\n",
    "                if en_ls[i] != '\\n':\n",
    "                    result.write(en_ls[i])\n",
    "                    result.write(ch_ls[i])\n",
    "                    result.write('\\n') # 成功！2021年12月01日 00:24:51\n",
    "#             print(len(chinese.readlines()))\n",
    "            \n",
    "#             print(english.readlines()[22])\n",
    "#             for i in range(len(english.readlines())):\n",
    "#                 result.write(english.readlines()[i])\n",
    "#                 result.write(chinese.readlines()[i])\n"
   ]
  },
  {
   "cell_type": "code",
   "execution_count": 1,
   "metadata": {},
   "outputs": [
    {
     "name": "stdout",
     "output_type": "stream",
     "text": [
      "['潜水、恐慌、共鸣（第一部分）\\n', '\\n', '作者：Derek Sivers\\n', '\\n', '\\n', '我以为恐慌症是脆弱的歇斯底里的人，不能处理生活。我从来没有过这样的经历。\\n', '\\n', '\\n', '我在访问冰岛时，看着一个湖，看到湖水是如此的清澈，令人难以置信。我想，\"哦哦哦。我想在那里潜水！\"\\n', '\\n', '\\n', '我从来没有做过水肺潜水，所以我找到一个地方，在那里我可以上一周的课，获得证书，然后在那个地方潜水。\\n', '\\n', '\\n', '课程很好。你要学习水下交流的手势。主要的两个信号是经典的 \"OK \"手势，以及晃动你的平手表示 \"SOMETHING WRONG\"。\\n', '\\n', '\\n', '我们第一次进入水下，在一个游泳池里，我发现它是如此宁静和放松。\\n', '\\n', '\\n', '但是当你进入冰冷的海洋时，你必须在潜水服外面穿上干式套装。潜水服是很难穿上的，你要用尽全身力气拉着厚厚的氯丁橡胶泡沫，才能把它套在身上。然后，由于行动受限，你必须穿上干衣，这就像宇航员的太空服。这真的很不舒服，而且有幽闭恐惧症。\\n', '\\n', '\\n', '我们进入了大海，开始往下潜。但是当水变得更黑时，我被一种想要离开那里的冲动所征服。我只想和我的朋友梅雷迪斯通电话。我想把我的笔记本电脑放在腿上，喝杯茶，回答电子邮件。我想回到我的酒店。更重要的是，我想和一个朋友聊天。就现在！就现在 就这样吧！我走了。我要走了!']\n",
      "\n"
     ]
    }
   ],
   "source": [
    "ch_ls2 = []\n",
    "with open('chinese.txt', 'r', encoding='utf-8') as chinese:\n",
    "#     print(chinese.readlines())\n",
    "    ch_ls2 = chinese.readlines()\n",
    "    print(ch_ls2)\n",
    "    print()\n",
    "#     for line in chinese.readlines():\n",
    "#         print(line)"
   ]
  },
  {
   "cell_type": "code",
   "execution_count": 11,
   "metadata": {},
   "outputs": [
    {
     "name": "stdout",
     "output_type": "stream",
     "text": [
      "2021.12.03_14:56:47\n"
     ]
    }
   ],
   "source": [
    "from time import strftime, gmtime\n",
    "\n",
    "print(strftime(\"%Y.%m.%d_%H:%M:%S\", gmtime()))"
   ]
  }
 ],
 "metadata": {
  "kernelspec": {
   "display_name": "python3.7.1",
   "language": "python",
   "name": "python3.7.1"
  },
  "language_info": {
   "codemirror_mode": {
    "name": "ipython",
    "version": 3
   },
   "file_extension": ".py",
   "mimetype": "text/x-python",
   "name": "python",
   "nbconvert_exporter": "python",
   "pygments_lexer": "ipython3",
   "version": "3.7.1"
  }
 },
 "nbformat": 4,
 "nbformat_minor": 2
}
